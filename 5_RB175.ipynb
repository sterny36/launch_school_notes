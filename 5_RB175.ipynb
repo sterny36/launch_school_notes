{
 "cells": [
  {
   "cell_type": "markdown",
   "metadata": {},
   "source": [
    "# RB175 Networked Applications"
   ]
  },
  {
   "cell_type": "markdown",
   "metadata": {},
   "source": [
    "## Web server:\n",
    "- The web server is responsible for using the operating system’s socket API to receive information in the form of HTTP requests.\n",
    "\n",
    "## Application server:\n",
    "- an HTTP interface that can translate HTTP requests, forwarded from the web server, into sensible arguments that are then passed to the application. This interface would also translate the application’s non-HTTP response into HTTP that is then passed back to the web server and, finally, to the client.\n",
    "- It will execute your application just like an object calls another object’s method in Ruby.\n",
    "- It will parse HTTP information into Ruby data structures that make sense.\n",
    "- It will interface with a standard web server via socket connections.\n",
    "- It will capture the return value of your application and transforms the return value into HTTP-formatted text.\n",
    "\n",
    "\n",
    "The application server receives HTTP text from the web server, and then the application server’s HTTP parser will format this into Ruby-friendly data structures. When the application server is ready to hand the parsed request to the Ruby app, it will call your Ruby app with a method, passing in the parsed request as an argument or series of arguments. The Ruby app will execute, and the application server will store the Ruby app’s return value in a variable. It will re-format this variable into an HTTP response that the web server will understand, and then it will send that formatted HTTP response back to the web server via a socket connection. From there, the web server sends the HTTP response to the client.\n",
    "\n",
    "\n",
    "## Rack\n",
    "- How do we make sure that multuple combinations of different frameworks (application) can communicate with different application servers? \n",
    "- Rack is a generic interface to help application developers connect to applications servers.\n",
    "- Rack’ is basically a specification of these two things: what the server should send to the app and what the app should return to the server. "
   ]
  },
  {
   "cell_type": "markdown",
   "metadata": {},
   "source": [
    "## Sinatra"
   ]
  },
  {
   "cell_type": "markdown",
   "metadata": {},
   "source": [
    "### Templating\n",
    "- The ERB library can process a special syntax that mixes Ruby into HTML, and produces a final 100% HTML string.\n",
    "- `<%= %>` will evaluate the embedded ruby code and include its return value in the HTML output (i.e. to call a method/variable).\n",
    "- `<% %>` will only evaluate the Ruby code, but not include the return value in the HTML output (i.e. to define a method/variable)."
   ]
  },
  {
   "cell_type": "markdown",
   "metadata": {},
   "source": [
    "### View helpers\n",
    "- Helpers are methods that are made available in templates by Sinatra for the purpose of filtering data, processing data, or performing some other functionality.\n",
    "- Helpers are defined within a helpers block in a Sinatra application.\n",
    "\n",
    "```\n",
    "helpers do\n",
    "  def slugify(text)\n",
    "    text.downcase.gsub(/\\s+/, \"-\").gsub(/[^\\w-]/, \"\")\n",
    "  end\n",
    "end\n",
    "```"
   ]
  },
  {
   "cell_type": "markdown",
   "metadata": {},
   "source": [
    "### Redirect \n",
    "\n",
    "#### Catch-all\n",
    "```\n",
    "not_found do\n",
    "  redirect \"/\"\n",
    "end\n",
    "```\n",
    "#### Normal redirect \n",
    "- `redirect '/path'`"
   ]
  },
  {
   "cell_type": "markdown",
   "metadata": {},
   "source": [
    "### Forms\n",
    "- When a form is submitted, the browser makes a HTTP request.\n",
    "- This request is made to the path or URL specified in the action attribute of the form element.\n",
    "- The method attribute of the form determines if the request made will use GET or POST.\n",
    "- The value of any input elements in the form will be sent as parameters. The keys of these parameters will be determined by the name attribute of the corresponding input element."
   ]
  },
  {
   "cell_type": "markdown",
   "metadata": {},
   "source": [
    "### Summary\n",
    "- Sinatra is a small web framework.\n",
    "- HTTP requests are handled in Sinatra by creating routes for a path or set of paths.\n",
    "- Routes are created using methods named after the HTTP method to be handled. So, a GET request is handled by a route defined using the get Sinatra method.\n",
    "- View templates can be written in many templating languages, such as ERB. They provide a place to define the HTML display of a response outside of the route handling it. Templating languages are usually better suited to describing HTML than plain Ruby.\n",
    "- A layout is a view template that surrounds a specific response's template. They are used to provide shared HTML that is used by all views, and often include links to stylesheets and JavaScript files.\n",
    "- Routes can specify parameters by using colon followed by the parameter name: /chapters/:number. In this case, the value would be accessible within the route using params[:number].\n",
    "- Code placed in a before block is executed before the matching route for every request.\n",
    "- View helpers are Ruby methods that are used to minimize the amount of Ruby code included in a view template. These methods are defined within a helpers block in Sinatra.\n",
    "- A user can be sent to a new location in response to a request with redirection. This is done in Sinatra using the redirect method.\n",
    "- The redirection is accomplished by setting the Location header in the response. The client looks at the URL in the location header and sends out a new HTTP GET request for the associated resource, which in turn navigates the client to that new location.\n",
    "- The files in a project can be identified as either server-side or client-side code based on where they will be evaluated.- "
   ]
  },
  {
   "cell_type": "markdown",
   "metadata": {},
   "source": [
    "### Deploying to heroku \n",
    "- Procfile defines what types of processes are provided by the application and how to start them.\n",
    "  - `web: bundle exec puma -t 5:5 -p ${PORT:-3000} -e ${RACK_ENV:-development}`\n",
    "- config.ru tells the web server how to start the application. In this project, we require the file that contains the Sinatra application and then start it.\n",
    "```\n",
    "require \"./book_viewer\"\n",
    "run Sinatra::Application\n",
    "```\n",
    "- While WEBrick is a fine web server for development, it is better to use a production-ready web server such as Puma when deploying a project.\n",
    "- Puma is a threaded web server, which means that it can handle more than one request at a time using a single process. As a result, Puma will perform much better for most applications.\n",
    "- A specific version of Ruby can be specified in the Gemfile to ensure that the same version is used in both development and production."
   ]
  },
  {
   "cell_type": "markdown",
   "metadata": {},
   "source": [
    "## Sinatra summary\n",
    "- State is data that persists over time.\n",
    "- The session provides a way to store data that will persist between subsequent HTTP requests. This data is associated with a specific user by storing a cookie in their browser. In Sinatra, the session data itself is also stored in this cookie, but this is configurable and not always the case with other web frameworks.\n",
    "- Data that is submitted to the server often needs to be validated to ensure it meets the requirements of the application. In this lesson we built server-side validation as we performed the validation logic on the server.\n",
    "- Messages that need to be displayed to the user on their next request and then deleted can be stored in the session. This kind of message is often referred to as a flash message.\n",
    "- Content from within a view template can be stored under a name and retrieved later using content_for and yield_content.\n",
    "- GET requests should only request data. Any request that modifies data should be over POST or another non-GET method.\n",
    "- Web browsers don't support request methods other than GET or POST in HTML forms, so there are times when a developer has to use POST even when another method would be more appropriate.\n",
    "- View helpers provide a way to extract code that determines what HTML markup is generated for a view."
   ]
  },
  {
   "cell_type": "markdown",
   "metadata": {},
   "source": [
    "### Testing Sinatra applications"
   ]
  },
  {
   "cell_type": "markdown",
   "metadata": {},
   "source": [
    "1. Make a request to your application.\n",
    "  - Use get, post, or other HTTP-method named methods.\n",
    "\n",
    "2. Access the response.\n",
    "  - The response to your request will be accessible using last_response. \n",
    "  - This method will return an instance of Rack::MockResponse. \n",
    "  - Instances of this class provide status, body, and [] methods for accessing their status code, body, and headers, respectively.\n",
    "\n",
    "3. Make assertions against values in the response.\n",
    "  - Use the standard assertions supplied by Minitest."
   ]
  },
  {
   "cell_type": "markdown",
   "metadata": {},
   "source": [
    "```ruby\n",
    "ENV[\"RACK_ENV\"] = \"test\"\n",
    "\n",
    "require \"rack/test\"\n",
    "require 'minitest/autorun'\n",
    "require \"minitest/reporters\"\n",
    "Minitest::Reporters.use!\n",
    "\n",
    "\n",
    "require_relative \"../cms\"\n",
    "\n",
    "class AppTest < Minitest::Test\n",
    "  include Rack::Test::Methods\n",
    "\n",
    "  def app\n",
    "    Sinatra::Application\n",
    "  end\n",
    "\n",
    "  def test_index\n",
    "    get \"/\"\n",
    "    assert_equal 200, last_response.status\n",
    "    assert_equal \"text/html;charset=utf-8\", last_response[\"Content-Type\"]\n",
    "    assert_equal \"Hello, world!\", last_response.body\n",
    "  end\n",
    "end\n",
    "```"
   ]
  },
  {
   "cell_type": "code",
   "execution_count": null,
   "metadata": {},
   "outputs": [],
   "source": []
  }
 ],
 "metadata": {
  "kernelspec": {
   "display_name": "Ruby 2.6.5",
   "language": "ruby",
   "name": "ruby"
  },
  "language_info": {
   "file_extension": ".rb",
   "mimetype": "application/x-ruby",
   "name": "ruby",
   "version": "2.6.5"
  },
  "toc": {
   "base_numbering": 1,
   "nav_menu": {},
   "number_sections": true,
   "sideBar": true,
   "skip_h1_title": false,
   "title_cell": "Table of Contents",
   "title_sidebar": "Contents",
   "toc_cell": false,
   "toc_position": {},
   "toc_section_display": true,
   "toc_window_display": false
  }
 },
 "nbformat": 4,
 "nbformat_minor": 4
}
