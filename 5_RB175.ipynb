{
 "cells": [
  {
   "cell_type": "markdown",
   "metadata": {},
   "source": [
    "# RB175 Networked Applications"
   ]
  },
  {
   "cell_type": "markdown",
   "metadata": {},
   "source": [
    "## Web server:\n",
    "- The web server is responsible for using the operating system’s socket API to receive information in the form of HTTP requests.\n",
    "\n",
    "## Application server:\n",
    "- an HTTP interface that can translate HTTP requests, forwarded from the web server, into sensible arguments that are then passed to the application. This interface would also translate the application’s non-HTTP response into HTTP that is then passed back to the web server and, finally, to the client.\n",
    "- It will execute your application just like an object calls another object’s method in Ruby.\n",
    "- It will parse HTTP information into Ruby data structures that make sense.\n",
    "- It will interface with a standard web server via socket connections.\n",
    "- It will capture the return value of your application and transforms the return value into HTTP-formatted text.\n",
    "\n",
    "\n",
    "The application server receives HTTP text from the web server, and then the application server’s HTTP parser will format this into Ruby-friendly data structures. When the application server is ready to hand the parsed request to the Ruby app, it will call your Ruby app with a method, passing in the parsed request as an argument or series of arguments. The Ruby app will execute, and the application server will store the Ruby app’s return value in a variable. It will re-format this variable into an HTTP response that the web server will understand, and then it will send that formatted HTTP response back to the web server via a socket connection. From there, the web server sends the HTTP response to the client.\n",
    "\n",
    "\n",
    "## Rack\n",
    "- How do we make sure that multuple combinations of different frameworks (application) can communicate with different application servers? \n",
    "- Rack is a generic interface to help application developers connect to applications servers.\n",
    "- Rack’ is basically a specification of these two things: what the server should send to the app and what the app should return to the server. "
   ]
  },
  {
   "cell_type": "markdown",
   "metadata": {},
   "source": [
    "## Templating\n",
    "- The ERB library can process a special syntax that mixes Ruby into HTML, and produces a final 100% HTML string.\n",
    "- `<%= %>` will evaluate the embedded ruby code and include its return value in the HTML output (i.e. to call a method/variable).\n",
    "- `<% %>` will only evaluate the Ruby code, but not include the return value in the HTML output (i.e. to define a method/variable)."
   ]
  }
 ],
 "metadata": {
  "kernelspec": {
   "display_name": "Ruby 2.6.5",
   "language": "ruby",
   "name": "ruby"
  },
  "language_info": {
   "file_extension": ".rb",
   "mimetype": "application/x-ruby",
   "name": "ruby",
   "version": "2.6.5"
  },
  "toc": {
   "base_numbering": 1,
   "nav_menu": {},
   "number_sections": true,
   "sideBar": true,
   "skip_h1_title": false,
   "title_cell": "Table of Contents",
   "title_sidebar": "Contents",
   "toc_cell": false,
   "toc_position": {},
   "toc_section_display": true,
   "toc_window_display": false
  }
 },
 "nbformat": 4,
 "nbformat_minor": 4
}
