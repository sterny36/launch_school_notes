{
 "cells": [
  {
   "cell_type": "markdown",
   "metadata": {},
   "source": [
    "# RB185 Database Applications"
   ]
  },
  {
   "cell_type": "markdown",
   "metadata": {},
   "source": [
    "## Executing SQL statements from ruby\n",
    "\n",
    "```ruby\n",
    "require \"pg\"\n",
    "\n",
    "db = PG.connect(dbname: \"films\")\n",
    "result = db.exec \"SELECT * FROM films;\"\n",
    "result.values # Returns an Array of Arrays containing values for each row in result\n",
    "result.values.size # number of rows \n",
    "result.fields # Returns the names of columns as an Array of Strings\n",
    "result.each { |row| ... } # Yields a Hash of column names and values to the block for each row in result\n",
    "result.each_row {|row| ..} # Yields an Array of values to the block for each row in result\n",
    "result[2] # Returns a Hash of values for row at index in result\n",
    "result.field_values(\"duration\") # returns all values in that column (needs column title)\n",
    "result.column_values(4) # returns all values in that column (needs column index)\n",
    "```\n"
   ]
  },
  {
   "cell_type": "markdown",
   "metadata": {},
   "source": [
    "## SQL injection attack\n",
    "- All of the various types rely upon an attacker's ability to manipulate SQL statements by breaking out of quotes.\n",
    "- Never, ever, ever interpolate values into SQL statements manually. Always use the appropriate database adapter method to ensure values are properly quote.\n",
    "- Example: \n",
    "  - Instead of `connection.exec(\"SELECT 1 + 1\").values`\n",
    "  - Use `connection.exec_params(\"SELECT 1 + $1\", [1]).values`"
   ]
  },
  {
   "cell_type": "markdown",
   "metadata": {},
   "source": [
    "## N + 1 issue\n",
    "It's where an application issues one query to retrieve data for a parent record, and then an additional query for each child record associated with that parent."
   ]
  },
  {
   "cell_type": "markdown",
   "metadata": {},
   "source": [
    "## Projects\n",
    "- Command line: \n",
    "- Todo App:"
   ]
  },
  {
   "cell_type": "code",
   "execution_count": null,
   "metadata": {},
   "outputs": [],
   "source": []
  }
 ],
 "metadata": {
  "kernelspec": {
   "display_name": "Ruby 2.6.5",
   "language": "ruby",
   "name": "ruby"
  },
  "language_info": {
   "file_extension": ".rb",
   "mimetype": "application/x-ruby",
   "name": "ruby",
   "version": "2.6.5"
  },
  "toc": {
   "base_numbering": 1,
   "nav_menu": {},
   "number_sections": true,
   "sideBar": true,
   "skip_h1_title": false,
   "title_cell": "Table of Contents",
   "title_sidebar": "Contents",
   "toc_cell": false,
   "toc_position": {},
   "toc_section_display": true,
   "toc_window_display": false
  }
 },
 "nbformat": 4,
 "nbformat_minor": 4
}
