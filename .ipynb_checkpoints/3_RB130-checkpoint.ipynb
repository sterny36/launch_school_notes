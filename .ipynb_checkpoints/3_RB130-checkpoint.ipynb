{
 "cells": [
  {
   "cell_type": "markdown",
   "metadata": {},
   "source": [
    "# RB130: Ruby foundations: more topics"
   ]
  },
  {
   "cell_type": "markdown",
   "metadata": {},
   "source": [
    "## Closures"
   ]
  },
  {
   "cell_type": "markdown",
   "metadata": {},
   "source": [
    "- A closure is a general programming concept that allows programmers to save a \"chunk of code\" and execute it at a later time. \n",
    "- It's called a \"closure\" because it's said to bind its surrounding artifacts (ie, variables, methods, objects, etc) and build an \"enclosure\" around everything so that they can be referenced when the closure is later executed. \n",
    "- It's sometimes useful to think of a closure as a method that you can pass around and execute, but it's not defined with an explicit name. \n",
    "- In Ruby, a closure is implemented through a Proc object, a lambda, or a block. \n",
    "- We can pass around these items as a \"chunk of code\" and execute them later.\n",
    "- The idea of having an unnamed \"chunk of code\" that we can pass around is very handy, especially when we pass them into existing methods. "
   ]
  },
  {
   "cell_type": "markdown",
   "metadata": {},
   "source": [
    "### Calling methods with blocks"
   ]
  },
  {
   "cell_type": "markdown",
   "metadata": {},
   "source": [
    "```ruby\n",
    "[1, 2, 3].each do |num|\n",
    "  puts num\n",
    "end\n",
    "```\n",
    "\n",
    "- The object we're working with is the collection or Array object: `[1, 2, 3]`\n",
    "- The method we're calling on that object is `Array#each`\n",
    "- The block is: \n",
    "```ruby\n",
    "do |num|\n",
    "    puts num\n",
    "end\n",
    "```\n",
    "- A block is just another argument passed into a method.\n",
    "- It's up to the method implementation to decide what to do with the block of code given to it."
   ]
  },
  {
   "cell_type": "markdown",
   "metadata": {},
   "source": [
    "### Writing Methods that take Blocks\n"
   ]
  },
  {
   "cell_type": "markdown",
   "metadata": {},
   "source": [
    "- In Ruby, every method can take an optional block as an **implicit** parameter."
   ]
  },
  {
   "cell_type": "markdown",
   "metadata": {},
   "source": [
    "#### Yielding without arguments"
   ]
  },
  {
   "cell_type": "markdown",
   "metadata": {},
   "source": [
    "- One way that we can invoke the passed-in block argument from within the method is by using the yield keyword."
   ]
  },
  {
   "cell_type": "code",
   "execution_count": 5,
   "metadata": {},
   "outputs": [
    {
     "name": "stdout",
     "output_type": "stream",
     "text": [
      "world\n"
     ]
    },
    {
     "data": {
      "text/plain": [
       "\"hello!\""
      ]
     },
     "execution_count": 5,
     "metadata": {},
     "output_type": "execute_result"
    }
   ],
   "source": [
    "def echo_with_yield(str)\n",
    "  yield\n",
    "  str\n",
    "end\n",
    "\n",
    "#echo_with_yield { puts \"world\" }   # ArgumentError:                     \n",
    "echo_with_yield(\"hello!\") { puts \"world\" }   #executes block, returns str                                                                   \n",
    "#echo_with_yield(\"hello\", \"world!\") { puts \"world\" }   # ArgumentError:"
   ]
  },
  {
   "cell_type": "markdown",
   "metadata": {},
   "source": [
    "- The number of arguments at method invocation needs to match the method definition, regardless of whether we are passing in a block.\n",
    "- The `yield` keyword executes the block.\n",
    "  - **If a method implementation contains a yield, you can inject additional code into the method without modifying the method implementation, by passing in a block of code.**"
   ]
  },
  {
   "cell_type": "markdown",
   "metadata": {},
   "source": [
    "#### block_given?\n",
    "- Passing no block into a method that tries to `yield` a block will throw a `LocalJumpError: no block given (yield)` error.\n",
    "- In order to allow calling the method with or without a block, we must wrap the yield call in a conditional\n",
    "- Use `Kernel#block_given?` for that. \n",
    "\n",
    "```ruby\n",
    "def echo_with_yield(str)\n",
    "  yield if block_given?\n",
    "  str\n",
    "end\n",
    "```  "
   ]
  },
  {
   "cell_type": "markdown",
   "metadata": {},
   "source": [
    "#### Yielding with arguments"
   ]
  },
  {
   "cell_type": "markdown",
   "metadata": {},
   "source": [
    "- Sometimes, the block we pass in to a method requires an argument.\n",
    "\n",
    "```ruby\n",
    "3.times do |num|\n",
    "  puts num\n",
    "end\n",
    "```\n",
    "- `3` is the calling object\n",
    "- `times` is the method being called\n",
    "- `do...end` is the block\n",
    "- `|num|` is a block parameter\n",
    "- `num` is a block local variable "
   ]
  },
  {
   "cell_type": "code",
   "execution_count": 36,
   "metadata": {},
   "outputs": [
    {
     "name": "stdout",
     "output_type": "stream",
     "text": [
      "6\n"
     ]
    },
    {
     "data": {
      "text/plain": [
       "6"
      ]
     },
     "execution_count": 36,
     "metadata": {},
     "output_type": "execute_result"
    }
   ],
   "source": [
    "# method implementation\n",
    "def increment(number)\n",
    "  if block_given?\n",
    "    yield(number + 1)\n",
    "  end\n",
    "  number + 1\n",
    "end\n",
    "\n",
    "# method invocation\n",
    "increment(5) do |num|\n",
    "  puts num\n",
    "end"
   ]
  },
  {
   "cell_type": "markdown",
   "metadata": {},
   "source": [
    "1. Execution starts on line 10. The `increment` method is invoked with two arguments: an integer and a block. \n",
    "2. Execution moves to the method implementation on line 2, which assigns `5` to the local variable `number`, and the block is passed in implicitly, without being assigned to a variable.\n",
    "3. Execution continues on line 3, which is a conditional.\n",
    "4. Our method invocation has indeed passed in a block, so the conditional is true, moving execution to line 4.\n",
    "5. On line 4, execution is yielded to the block (or the block is called), and we're passing `number + 1` to the block. This means we're calling the block with `6` as the block argument.\n",
    "6. Execution jumps to line 10, where the block local variable `num` is assigned `6`.\n",
    "7. Execution continues to line 11, where we output the block local variable `num.`\n",
    "8. Execution continues to line 12, where the end of the block is reached.\n",
    "9. Execution now jumps back to the method implementation, where we just finished executing line 4.\n",
    "10. Execution continues to line 5, the end of the if.\n",
    "11. Line 6 returns the value of the incremented argument to line 10.\n",
    "12. The program ends (the return value of #increment is not used)"
   ]
  },
  {
   "cell_type": "markdown",
   "metadata": {},
   "source": [
    "- Calling a block with too many arguments: block will ignore additional arguments.\n",
    "- Calling a block with not enough arguments: missing arguments will be set to `nil`."
   ]
  },
  {
   "cell_type": "markdown",
   "metadata": {},
   "source": [
    "#### Block's return value"
   ]
  },
  {
   "cell_type": "code",
   "execution_count": 3,
   "metadata": {},
   "outputs": [
    {
     "name": "stdout",
     "output_type": "stream",
     "text": [
      "6\n"
     ]
    }
   ],
   "source": [
    "def increment(n)\n",
    "  resut = yield(n) #block returns last expression \"4 + num\"\n",
    "end\n",
    "\n",
    "puts increment(2) {|num| 4 + num}"
   ]
  },
  {
   "cell_type": "markdown",
   "metadata": {},
   "source": [
    "- Like normal methods, a block's return value is determined based on the last expression in the block. \n",
    "- Like normal methods, blocks can either mutate the argument with a destructive method call or return a value. "
   ]
  },
  {
   "cell_type": "markdown",
   "metadata": {},
   "source": [
    "### When to use blocks in your own methods"
   ]
  },
  {
   "cell_type": "markdown",
   "metadata": {},
   "source": [
    "#### Defer some implementation code to method invocation decision\n",
    "- By using blocks, the method implementor can defer the decision of which flags to support and let the method caller decide at method invocation time. \n",
    "  - i.e. make method generic\n",
    "- Example `Kernel#select`: As long as it evaluates to a boolean we can use it.\n",
    "- If you encounter a scenario where you're calling a method from multiple places, with one little tweak in each case, it may be a good idea to try implementing the method in a generic way by yielding to a block."
   ]
  },
  {
   "cell_type": "markdown",
   "metadata": {},
   "source": [
    "#### Methods that need to perform some \"before\" and \"after\" actions - sandwich code\n",
    "- There will be times when you want to write a generic method that performs some \"before\" and \"after\" action e.g. Timing, logging, notification systems, resource management are all examples where before/after actions are important.\n",
    "\n",
    "```ruby\n",
    "def time_it\n",
    "  time_before = Time.now\n",
    "  yield                       # execute the implicit block\n",
    "  time_after= Time.now\n",
    "  puts \"It took #{time_after - time_before} seconds.\"\n",
    "end\n",
    "\n",
    "time_it { sleep(3) }                    # It took 3.003767 seconds.\n",
    "                                        # => nil\n",
    "```"
   ]
  },
  {
   "cell_type": "markdown",
   "metadata": {},
   "source": [
    "### Binding & Scope"
   ]
  },
  {
   "cell_type": "markdown",
   "metadata": {},
   "source": [
    "- A block is how Ruby implements the idea of a closure, which is a general computing concept of a \"chunk of code\" that you can pass around and execute at some later time.\n",
    "- In Ruby, this \"chunk of code\" or closure is represented by a Proc object, a lambda, or a block.\n",
    "- A block is a form of Proc.\n",
    "- In order for this \"chunk of code\" to be executed later, it must understand the surrounding context from when it was initialized, i.e. have access to these variables\n"
   ]
  },
  {
   "cell_type": "code",
   "execution_count": 6,
   "metadata": {},
   "outputs": [
    {
     "name": "stdout",
     "output_type": "stream",
     "text": [
      "hi Robert\n"
     ]
    }
   ],
   "source": [
    "def call_me(some_code)\n",
    "  some_code.call            # call will execute the \"chunk of code\" that gets passed in\n",
    "end\n",
    "\n",
    "name = \"Robert\"\n",
    "chunk_of_code = Proc.new {puts \"hi #{name}\"}\n",
    "\n",
    "call_me(chunk_of_code)"
   ]
  },
  {
   "cell_type": "markdown",
   "metadata": {},
   "source": [
    "- How did the Proc know that name == \"Robert\"?\n",
    "- The `name` variable was initialized outside the method definition and in Ruby local variables initialized outside the method aren't accessible inside the method, unless it's explicitly passed in as an argument. \n",
    "- This implies that the Proc keeps track of its surrounding context, and drags it around wherever the chunk of code is passed to. \n",
    "- In Ruby, we call this its binding, or surrounding environment/context.\n",
    "- A closure must keep track of its surrounding context in order to have all the information it needs in order to be executed later. \n",
    "- This not only includes local variables, but also method references, constants and other artifacts in your code -- whatever it needs to execute correctly, it will drag all of it around.\n",
    "- This is at the heart of ruby and explains why \"inner scopes can access outer scopes\""
   ]
  },
  {
   "cell_type": "markdown",
   "metadata": {},
   "source": [
    "### Methods with an explicit block parameter"
   ]
  },
  {
   "cell_type": "markdown",
   "metadata": {},
   "source": [
    "- Remember: Every method, regardless of its definition, can take an implicit block.\n",
    "- Sometimes you want to pass a block to a method explicitly.\n",
    "- `&` in the method definition defines that the method can take an explicit (bound to a variable) block as an argument which it converts into a simple proc.\n",
    "- `&` when invoking a method calls `to_proc` on the object which converts it into a Proc (if necessary) and then into a block.\n",
    "  - An error will occur if the #to_proc fails to return a Proc object."
   ]
  },
  {
   "cell_type": "code",
   "execution_count": 18,
   "metadata": {
    "scrolled": true
   },
   "outputs": [
    {
     "name": "stdout",
     "output_type": "stream",
     "text": [
      "What's &block? #<Proc:0x00007ff52f9c92e0@(pry):206>\n"
     ]
    }
   ],
   "source": [
    "def test(&block_xyz) #explicit block parameter\n",
    "  puts \"What's &block? #{block_xyz}\"\n",
    "end\n",
    "\n",
    "test {puts \"hello\"}"
   ]
  },
  {
   "cell_type": "markdown",
   "metadata": {},
   "source": [
    "- Why? This provides additional flexibility. \n",
    "- Without an explicit block paremeter we don't have a handle (a variable) for the block, so we couldn't do much with it except yield to it and test whether a block was provided. \n",
    "- Now we have a variable that represents the block, so we can pass the block to another method."
   ]
  },
  {
   "cell_type": "markdown",
   "metadata": {},
   "source": [
    "#### Demonstration"
   ]
  },
  {
   "cell_type": "code",
   "execution_count": 37,
   "metadata": {},
   "outputs": [
    {
     "name": "stdout",
     "output_type": "stream",
     "text": [
      "method has been called\n",
      "#<Proc:0x00007ff5309fddf0@(pry):553>\n",
      "method2 has been called\n",
      "#<Proc:0x00007ff5309fddf0@(pry):553>\n",
      "proc created manually\n",
      "---\n",
      "method has been called\n",
      "#<Proc:0x00007ff530a05348@(pry):558>\n",
      "method2 has been called\n",
      "#<Proc:0x00007ff530a05348@(pry):558>\n",
      "just a block\n"
     ]
    }
   ],
   "source": [
    "def method(&block) #method takes explicit block and turns it into a proc if necessary\n",
    "  puts \"method has been called\"\n",
    "  puts block \n",
    "  method2(block)#if block_given? # if block is given, pass proc object into method2\n",
    "end\n",
    "\n",
    "def method2(block)\n",
    "  puts \"method2 has been called\"\n",
    "  puts block \n",
    "  block.call #execute proc object\n",
    "end\n",
    "\n",
    "\n",
    "\n",
    "proc1 = Proc.new {puts \"proc created manually\"} # create a proc object\n",
    "method(&proc1)\n",
    "\n",
    "puts \"---\"\n",
    "\n",
    "method {puts \"just a block\"}"
   ]
  },
  {
   "cell_type": "markdown",
   "metadata": {},
   "source": [
    "### Symbol#to_proc example"
   ]
  },
  {
   "cell_type": "code",
   "execution_count": 5,
   "metadata": {},
   "outputs": [
    {
     "data": {
      "text/plain": [
       "[\"HELLO\", \"WORLD\"]"
      ]
     },
     "execution_count": 5,
     "metadata": {},
     "output_type": "execute_result"
    }
   ],
   "source": [
    "[\"hello\", \"world\"].each(&:upcase!)  #is the same as\n",
    "[\"hello\", \"world\"].each {|word| word.upcase!}"
   ]
  },
  {
   "cell_type": "markdown",
   "metadata": {},
   "source": [
    "- Using `&` when invoking a method first checks whether the object after `&` is a `proc`. \n",
    "    - If it is, it uses the object as-is. \n",
    "    - Otherwise, it tries to call `#to_proc` on the object, which should return a `proc` object. \n",
    "    - An error will occur if the `#to_proc` fails to return a `proc` object.\n",
    "- Then the `&` turns the `proc` into a block.\n",
    "- Example: In other words, `Symbol#to_proc` returns a Proc, which `&` turns into a block, which turns our shortcut into the long form block usage.\n",
    "- More details: https://launchschool.com/posts/08e14621#comment-62092"
   ]
  },
  {
   "cell_type": "markdown",
   "metadata": {},
   "source": [
    "## Testing"
   ]
  },
  {
   "cell_type": "markdown",
   "metadata": {},
   "source": [
    "- Why write tests? For now: write tests to prevent regression -- that's it! \n",
    "- We want to write tests so that when we make changes in our code, we don't have to manually verify everything still works. \n",
    "- Many people use RSpec, Minitest is the default testing library that comes with Ruby. \n",
    "- Functionally, Minitest can do everything RSpec can, except Minitest uses a more straight forward syntax. \n",
    "- RSpec bends over backwards to allow developers to write code that reads like natural English, but at the cost of simplicity. \n",
    "- RSpec is what we call a Domain Specific Language; it's a DSL for writing tests."
   ]
  },
  {
   "cell_type": "markdown",
   "metadata": {},
   "source": [
    "### Vocabulary"
   ]
  },
  {
   "cell_type": "markdown",
   "metadata": {},
   "source": [
    "- Test Suite: the entire set of tests that accompanies your program or application. \n",
    "- Test: a situation or context in which tests are run. A test can contain multiple assertions.\n",
    "- Assertion: the actual verification step to confirm that the data returned by your program or application is indeed what is expected. "
   ]
  },
  {
   "cell_type": "markdown",
   "metadata": {},
   "source": [
    "```ruby\n",
    "require 'minitest/autorun'\n",
    "\n",
    "require_relative 'car'\n",
    "\n",
    "class CarTest < MiniTest::Test\n",
    "  def test_wheels\n",
    "    car = Car.new\n",
    "    assert_equal(4, car.wheels)\n",
    "  end\n",
    "end\n",
    "```"
   ]
  },
  {
   "cell_type": "markdown",
   "metadata": {},
   "source": [
    "- On line 1: loads all the necessary files from the minitest gem.\n",
    "- On line 3 we require the file that we're testing, car.rb, which contains the `Car` class. We use require_relative to specify the file name from the current file's directory. \n",
    "- On line 5: create our test class. This class must subclass `MiniTest::Test` in order to inherit all the necessary methods for writing tests. \n",
    "- Within our test class we can write tests by creating an instance method that starts with `test_`.  - Within each test we will need to make some assertions. These assertions are what we are trying to verify. \n",
    "- On line 7: Before we make any assertions, however, we have to first set up the appropriate data or objects to make assertions against. \n",
    "- Assertions: many types of assertions. \n",
    "- On line 8 we then use `assert_equal(exp, act)` to check if `car.wheels` does indeed return `4`.\n",
    "- assert_equal: takes two parameters: the first is the expected value, and the second is the test or actual value. \n",
    "  - If there's a discrepancy, assert_equal will save the error and Minitest will report that error to you at the end of the test run."
   ]
  },
  {
   "cell_type": "markdown",
   "metadata": {},
   "source": [
    "### Assertions"
   ]
  },
  {
   "cell_type": "markdown",
   "metadata": {},
   "source": [
    "- Full list of assertions: http://docs.seattlerb.org/minitest/Minitest/Assertions.html\n",
    "- `assert(test)`: Fails unless test is truthy.\n",
    "- `assert_equal(exp, act)`: Fails unless exp == act.\n",
    "- `assert_same(exp, act)`: Fails if exp and act don't reference the same object.\n",
    "- `assert_nil(obj)`: Fails unless obj is nil.\n",
    "- `assert_raises(*exp) { ... }`: Fails unless block raises one of *exp.\n",
    "- `assert_instance_of(cls, obj)`: Fails unless obj is an instance of cls.\n",
    "- `assert_kind_of(cls, obj)`: Fails unless obj is an instance of cls or a subclass.\n",
    "- `assert_includes(collection, obj)`: Fails unless collection includes obj."
   ]
  },
  {
   "cell_type": "markdown",
   "metadata": {},
   "source": [
    "### Testing equality"
   ]
  },
  {
   "cell_type": "markdown",
   "metadata": {},
   "source": [
    "- Using `assert_equal`, we are testing for value equality. \n",
    "  - For custom methods you need to implement a `==` method.\n",
    "- To test object equality use `assert_same`."
   ]
  },
  {
   "cell_type": "markdown",
   "metadata": {},
   "source": [
    "### Refutations"
   ]
  },
  {
   "cell_type": "markdown",
   "metadata": {},
   "source": [
    "- Opposite of assertions. \n",
    "- Every assertion has a corresponding refutation.\n",
    "- Refutations all take the same arguments, except it's doing a refutation. \n",
    "- Refutations are rarely used."
   ]
  },
  {
   "cell_type": "markdown",
   "metadata": {},
   "source": [
    "### Seat approach"
   ]
  },
  {
   "cell_type": "markdown",
   "metadata": {},
   "source": [
    "In larger projects, there are usually 4 steps to writing a test:\n",
    "\n",
    "1. Set up the necessary objects.\n",
    "2. Execute the code against the object we're testing.\n",
    "3. Assert the results of the execution.\n",
    "4. Tear down and clean up any lingering artifacts."
   ]
  },
  {
   "cell_type": "markdown",
   "metadata": {},
   "source": [
    "### Setup and teardown "
   ]
  },
  {
   "cell_type": "markdown",
   "metadata": {},
   "source": [
    "- `setup` runs before every test, use it for e.g. create obejcts that tests need, open files etc\n",
    "- `teardown` runs after every test, use if for e.g. close file"
   ]
  },
  {
   "cell_type": "markdown",
   "metadata": {},
   "source": [
    "### Code coverage"
   ]
  },
  {
   "cell_type": "markdown",
   "metadata": {},
   "source": [
    "- We want to get an idea of code coverage, or how much of our actual program code is tested by a test suite."
   ]
  },
  {
   "cell_type": "markdown",
   "metadata": {},
   "source": [
    "### Mock objects for Stdin and Stdout"
   ]
  },
  {
   "cell_type": "markdown",
   "metadata": {},
   "source": [
    "For some tests it might be necessary to have user input and compare printed output. For that use `StringIO` mock objects:\n",
    "- method definition: `def method(input: $stdin, output: $stdout)`\n",
    "- Input mock object: `input = StringIO.new('100\\n')`\n",
    "    - using input object: `input.gets.chomp`\n",
    "- Outout mock object: `output = StringIO.new`\n",
    "    - using output object: `output.puts \"Hello World\"`"
   ]
  },
  {
   "cell_type": "markdown",
   "metadata": {},
   "source": [
    "## Other"
   ]
  },
  {
   "cell_type": "markdown",
   "metadata": {},
   "source": [
    "## Enumerable module"
   ]
  },
  {
   "cell_type": "markdown",
   "metadata": {},
   "source": [
    "- The `Enumerable` module relies on a method named `#each`, which needs to be implemented in any class that includedes `Enumerable`."
   ]
  },
  {
   "cell_type": "markdown",
   "metadata": {},
   "source": [
    "## Ruby toolbox"
   ]
  },
  {
   "cell_type": "markdown",
   "metadata": {},
   "source": [
    "### Ruby Version Managers"
   ]
  },
  {
   "cell_type": "markdown",
   "metadata": {},
   "source": [
    "- Ruby version managers are programs that let you install, manage, and use multiple versions of Ruby. \n",
    "- To install ruby version: `rbenv install 2.2.2`\n",
    "- To set global ruby version: `rbenv global 2.3.1`\n",
    "- To set local ruby version for specific dir: `cd into dir && rbenv local 2.0.0`\n",
    "- `rbenv version`: Displays the currently active version of Ruby, along with a short explanation of how rbenv determined the version. \n",
    "- `echo $PATH`: Confirm that your shims directory is in your PATH. Specifically, verify that it occurs early in your path. \n",
    "- `rbenv which COMMAND`: Displays the disk location of the command named by COMMAND (e.g., ruby, irb, rubocop)\n",
    "- `rbenv rehash`: Rebuilds the shims directory. If you can't execute some commands or rbenv doesn't appear to be running the correct commands, try this command.\n",
    "- `rbenv root`: Display the path of the rbenv root directory.\n",
    "- `rbenv shims`: Display a list of all current shims.\n",
    "- `gem env`: Display configuration information about your RubyGems system."
   ]
  },
  {
   "cell_type": "markdown",
   "metadata": {},
   "source": [
    "### Gems"
   ]
  },
  {
   "cell_type": "markdown",
   "metadata": {},
   "source": [
    "- RubyGems, often just called Gems, are packages of code that you can download, install, and use in your Ruby programs or from the command line. \n",
    "- The `gem` command manages your Gems\n",
    "- Read: http://guides.rubygems.org/rubygems-basics/"
   ]
  },
  {
   "cell_type": "markdown",
   "metadata": {},
   "source": [
    "- To determine the Gem version, you need to know the full path name of the file that your program loaded. \n",
    "- The easiest way to do this is to insert some debugging code (or a call to binding.pry) in your program shortly after the point where you require the Gem: `puts $LOADED_FEATURES.grep(/freewill\\.rb/)`"
   ]
  },
  {
   "cell_type": "markdown",
   "metadata": {},
   "source": [
    "### Bundler"
   ]
  },
  {
   "cell_type": "markdown",
   "metadata": {},
   "source": [
    "- The most widely used dependency manager in the Ruby community, by far, is the Bundler Gem. This Gem lets you configure which Ruby and which Gems each of your projects need.\n",
    "- Bundler relies on a file named Gemfile to tell it which version of Ruby and its Gems it should use. \n",
    "- An app that relies on Bundler should require the `bundler/setup` package before it loads any Gems.\n",
    "- This file is a simple Ruby program that uses a Domain Specific Language (DSL) to provide details about the Ruby and Gem versions. \n",
    "- It's the configuration or instruction file for Bundler.\n",
    "- After you create Gemfile, the `bundle install` command scans it, downloads and installs all the dependencies listed, and produces a `Gemfile.lock` file. \n",
    "- `Gemfile.lock `shows all the dependencies for your program; this includes the Gems listed in Gemfile, as well as the Gems they depend on (the dependencies), which may not be explicitly listed in the Gemfile.\n",
    "- Any Gem command that requires other Gems may load a Gem that conflicts with your app's requirements. `bundle exec` is the easiest way to fix this issue.\n",
    "- Debugging: https://launchschool.com/books/core_ruby_tools/read/bundler#whenthingsgowrong\n",
    "\n",
    "- A **Gemfile** typically needs four main pieces of information:\n",
    "  - Where should Bundler look for Rubygems it needs to install?\n",
    "  - Do you need a `.gemspec` file?\n",
    "  - What version of Ruby does your program need? (Recommended, not required)\n",
    "  - What Rubygems does your program use?\n",
    "  \n",
    "- When you're ready to prepare your project for distribution, you should investigate the requirements for Rubygems. You can find useful information in the Rubygems documentation; it provides the details you'll need to finish preparing your project as a Rubygem.\n",
    "  - http://guides.rubygems.org/"
   ]
  },
  {
   "cell_type": "markdown",
   "metadata": {},
   "source": [
    "### Rake"
   ]
  },
  {
   "cell_type": "markdown",
   "metadata": {},
   "source": [
    "- Rake is a Rubygem that automates many common functions required to build, test, package, and install programs.\n",
    "- It is part of every modern Ruby installation, so you don't need to install it yourself.\n",
    "- Rake uses a file named `Rakefile` that lives in your project directory; this file describes the tasks that Rake can perform for your project, and how to perform those tasks. \n",
    "- A Rakefile contains tasks.\n",
    "  - Each task calls two Rake methods: `desc` and `task`\n",
    "  - The `desc` method provides a short description that Rake displays when you run `rake -T`\n",
    "  \n",
    "#### Why Do I Need Rake?\n",
    "- Every project that aims to produce a finished project that either you or other people intend to use in the future has repetitive tasks the developer needs.\n",
    "- For instance:\n",
    "  - Run all tests associated with the program.\n",
    "  - Increment the version number.\n",
    "  - Create your release notes.\n",
    "  - Make a complete backup of your local repo."
   ]
  },
  {
   "cell_type": "markdown",
   "metadata": {},
   "source": [
    "### Summary"
   ]
  },
  {
   "cell_type": "markdown",
   "metadata": {},
   "source": [
    "One thing to keep in mind as you become more comfortable with the Ruby tools is how they relate to each other.\n",
    "\n",
    "Your Ruby Version Manager is at the top level -- it controls multiple installations of Ruby and all the other tools.\n",
    "\n",
    "Within each installation of Ruby, you can have multiple Gems -- even 1000s of Gems if you want. Each Gem becomes accessible to the Ruby version under which it is installed. If you want to run a Gem in multiple versions of Ruby, you need to install it in all of the versions you want to use it with.\n",
    "\n",
    "Each Gem in a Ruby installation can itself have multiple versions. This frequently occurs naturally as you install updated Gems, but can also be a requirement; sometimes you just need a specific version of a Gem for one project, but want to use another version for your other projects.\n",
    "\n",
    "Ruby projects are programs and libraries that make use of Ruby as the primary development language. Each Ruby project is typically designed to use a specific version (or versions) of Ruby, and may also use a variety of different Gems.\n",
    "\n",
    "The Bundler program is itself a Gem that is used to manage the Gem dependencies of your projects. That is, it determines and controls the Ruby version and Gems that your project uses, and attempts to ensure that the proper items are installed and used when you run the program.\n",
    "\n",
    "Finally, Rake is another Gem. It isn't tied to any one Ruby project, but is, instead, a tool that you use to perform repetitive development tasks, such as running tests, building databases, packaging and releasing the software, etc. The tasks that Rake performs are varied, and frequently change from one project to another; you use the Rakefile file to control which tasks your project needs."
   ]
  },
  {
   "cell_type": "markdown",
   "metadata": {},
   "source": [
    "## To review"
   ]
  },
  {
   "cell_type": "markdown",
   "metadata": {},
   "source": [
    "- https://launchschool.com/exercises/ecdb2b22"
   ]
  },
  {
   "cell_type": "markdown",
   "metadata": {},
   "source": [
    "## Regex"
   ]
  },
  {
   "cell_type": "markdown",
   "metadata": {},
   "source": [
    "- Regex are patterns that we can use to search for information of interest in a set of strings. We can use them to perform conditional tests, extract desired information, or even modify information\n",
    "\n",
    "### Alphanumerics\n",
    "- `/s/` matches 4 times in \"Mississipi\"\n",
    "```ruby\n",
    "str = 'cast'\n",
    "print \"matched 's'\" if str.match(/s/)\n",
    "```\n",
    "\n",
    "#### Special characters\n",
    "- The following special characters have special meaning in a Ruby or JavaScript regex: `$ ^ * + ? . ( ) [ ] { } | \\ /`\n",
    "- These characters are clled meta-characters. \n",
    "- If you want to match a literal meta-character, you must escape it with a leading backslash `\\`. To match a question mark, for instance, use the regex `/\\?/`.\n",
    "\n",
    "#### Concatenation\n",
    "- Patterns are the building blocks of regex, not characters or strings. \n",
    "- You can construct complex regex by concatenating a series of patterns, and you can analyze a complex regex by breaking it down into its component patterns.\n",
    "- The regex `/cat/`, for instance, consists of the concatenation of the c, a, and t patterns, and matches any string that contains a c followed by an a followed by a t.\n",
    "\n",
    "#### Alternation (Or)\n",
    "- `/(cat|dog|rabbit)/` matches all instances of \"cat\", \"dog\" and \"rabbit\"\n",
    "\n",
    "#### Control Character Escapes\n",
    "- `\\n` new line\n",
    "- `\\t` tab\n",
    "- `\\r` enter\n",
    "\n",
    "#### Ignoring Case\n",
    "- Regex are case sensitive by default.\n",
    "- To ignore case append an `i` e.g. `/launch/i`\n",
    "\n",
    "#### Set of Characters\n",
    "- Character class patterns use a list of characters between square brackets, e.g., `/[abc]/`. Such a pattern matches a single occurrence of any of the characters between the brackets.\n",
    "- Example: The regex `/[abc][12]/` matches any two characters where the first character is an `a`, `b`, or `c`, and the second is a `1` or a `2`.\n",
    "- Within a character set there are only a few meta characters: `^ \\ - [ ]`\n",
    "\n",
    "#### Range of Characters\n",
    "- For natural sequence of characters abbreviate these ranges inside character classes by specifying the starting character, a hyphen `-`, and the last character. Thus, `/[a-z]/` matches any lowercase alphabetic character, `/[j-p]/` limits that to the letters `j` through `p`, while `/[0-9]/` matches any decimal digit. \n",
    "- Example hexadecimal: `/[0-9A-Fa-f]/`\n",
    "\n",
    "\n",
    "#### Negated Classes\n",
    "- Negations look like ordinary character classes, except the first character between the brackets is a caret `^`. \n",
    "- The negated class matches all characters not identified in the range.\n",
    "- Example: `/[^y]/` matches everything apart form \"y\".\n",
    "\n",
    "\n",
    "#### Character Class Shortcuts\n",
    "- Any character: `.`\n",
    "- Whitespace: `\\s` (space, tab, vertical tab, return, line feed ('\\n'), and form feed ('\\f'))\n",
    "- Non-whitespace: `\\S`\n",
    "- Any decimal digit (0-9): `\\d`\n",
    "- Any character but a decimal digit: `\\D`\n",
    "- Any hexadecimal digit (0-9, A-F, a-f) (Ruby): `\\h`\n",
    "- Any character but a hexadecimal digit (Ruby): `\\H`\n",
    "- Word characters: `\\w` (all alphabetic characters (a-z, A-Z), all decimal digits (0-9), underscore (_)).\n",
    "- Non-word characters: `\\W`\n",
    "\n",
    "#### Anchors\n",
    "Anchors don't match any characters. What they do is ensure that a regex matches a string at a specific place: the beginning or end of the string or end of a line, or on a word or non-word boundary.\n",
    "- Fix match to start of line: `^`\n",
    "- Fix match to end of line: `$`\n",
    "- Fix match to start of string: `\\A`\n",
    "- Fix match to end of string: `\\z`\n",
    "\n",
    "\n",
    "#### Word Boundaries\n",
    "\n",
    "\n",
    "#### Regex Book: https://launchschool.com/books/regex/read/introduction"
   ]
  }
 ],
 "metadata": {
  "kernelspec": {
   "display_name": "Ruby 2.6.5",
   "language": "ruby",
   "name": "ruby"
  },
  "language_info": {
   "file_extension": ".rb",
   "mimetype": "application/x-ruby",
   "name": "ruby",
   "version": "2.6.5"
  },
  "toc": {
   "base_numbering": 1,
   "nav_menu": {},
   "number_sections": true,
   "sideBar": true,
   "skip_h1_title": false,
   "title_cell": "Table of Contents",
   "title_sidebar": "Contents",
   "toc_cell": false,
   "toc_position": {
    "height": "calc(100% - 180px)",
    "left": "10px",
    "top": "150px",
    "width": "256px"
   },
   "toc_section_display": true,
   "toc_window_display": true
  }
 },
 "nbformat": 4,
 "nbformat_minor": 2
}
