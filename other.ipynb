{
 "cells": [
  {
   "cell_type": "markdown",
   "metadata": {},
   "source": [
    "# Mastering the shell\n",
    "https://thoughtbot.com/upcase/videos/mastering-the-shell-overview"
   ]
  },
  {
   "cell_type": "markdown",
   "metadata": {},
   "source": [
    "## Other\n",
    "- Print exit code of last run cmd: `echo $?`\n",
    "  - 0: all good\n",
    "  - not 0: something went wrong\n",
    "  - 64: usage error, e.g. not enough arguments provided\n",
    "- Number of arguments passed to script: `$#`"
   ]
  },
  {
   "cell_type": "markdown",
   "metadata": {},
   "source": [
    "## Search and transform\n",
    "### Grep (finds text)\n",
    "- Match (case sensitive): `grep Hello greetings.txt` prints lines contiaing \"Hello\" \n",
    "- Match (case insensitive)`grep -i Hello greetings.txt` prints lines contiaing \"Hello\" \n",
    "- Match regex: `grep -E '[Hh]ello greetings.txt` prints lines contiaing \"Hello\" or \"hello\"\n",
    "- Invert match: `grep -v hello greetings.txt` prints lines not contiaing \"hello\" \n",
    "- Recursive match: `grep -r hello directory/` searches all files in directory for \"hello\"\n",
    "\n",
    "## #Sed (transforms text)\n",
    "- Transform case sensitive: `sed 's/Hello/Goodbye/' greetings.txt` substitutes all occurences of \"Hello\" with \"Goodbye\", does not mutate original file, just prints results.\n",
    "- Tranform with regex: `sed -E 's/Hello|hello/GOODBYE/' greetings.txt` substitutes all occurences of \"Hello\" or \"hello\" with \"GOODBYE\", does not mutate original file, just prints results.\n",
    "- Mutate in place with backup: `sed -i '.old' 's/Hello/Goodbye/' greetings.txt` substitutes all occurences of \"Hello\" with \"Goodbye\" in-place and creates a backup file \"*.old\"\n",
    "- Mutate in place without backup: `sed -i '' 's/Hello/Goodbye/' greetings.txt` substitutes all occurences of \"Hello\" with \"Goodbye\" in-place"
   ]
  },
  {
   "cell_type": "markdown",
   "metadata": {},
   "source": [
    "## Pipes, Input & Output\n",
    "- By default commands send their output to `stdout`, which the shell checks and prints to the screen.\n",
    "- By default errors are sent to `stderr`.\n",
    "\n",
    "### Stdout\n",
    "- However, we can redirect, where the output of a command is sent.\n",
    "- Overwrite: `echo \"Hello world\" > hello.txt` stores \"Hello world\" in hello.txt\n",
    "- Append: `echo \"Hello world again\" >> hello.txt` appends \"Hello world again\" to hello.txt\n",
    "\n",
    "### Stderr\n",
    "- However, we can redirect, where the output of a command is sent.\n",
    "- Overwrite: `cat not_here.txt 2> error.txt` stores the error message of trying to cat a non existing file in error.txt\n",
    "- Append:  `cat not_here.txt 2>> error.txt` appends the error message of trying to cat a non existing file to error.txt\n",
    "\n",
    "### Stdout & Stderr\n",
    "- Redirect both stderr and stdout to file\n",
    "- `cat hello.txt not_here.txt &> combinded.txt`\n",
    "\n",
    "### Pipe\n",
    "- A pipe connects the stdout of the command left of the pipe to the stdin of the command right of the pipe.\n",
    "- `sort greetings.txt | grep H` Sort file, then send output to grep and grep all lines containing \"H\""
   ]
  },
  {
   "cell_type": "markdown",
   "metadata": {},
   "source": [
    "## Shell scripting\n",
    "- Put shebang at the top, e.g. `#!/bin/sh\n",
    "- Set `set -e` makes sure that script will stop if it encounters error.\n",
    "- Set `set -o pipefail`makes sure that script will stop of one cmd in a pipeline fails\n"
   ]
  }
 ],
 "metadata": {
  "kernelspec": {
   "display_name": "Ruby 2.6.5",
   "language": "ruby",
   "name": "ruby"
  },
  "language_info": {
   "file_extension": ".rb",
   "mimetype": "application/x-ruby",
   "name": "ruby",
   "version": "2.6.5"
  },
  "toc": {
   "base_numbering": 1,
   "nav_menu": {},
   "number_sections": true,
   "sideBar": true,
   "skip_h1_title": false,
   "title_cell": "Table of Contents",
   "title_sidebar": "Contents",
   "toc_cell": false,
   "toc_position": {},
   "toc_section_display": true,
   "toc_window_display": false
  }
 },
 "nbformat": 4,
 "nbformat_minor": 4
}
